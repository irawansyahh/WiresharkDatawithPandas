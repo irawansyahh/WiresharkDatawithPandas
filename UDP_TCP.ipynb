{
  "nbformat": 4,
  "nbformat_minor": 0,
  "metadata": {
    "colab": {
      "name": "UDP/TCP.ipynb",
      "provenance": [],
      "collapsed_sections": []
    },
    "kernelspec": {
      "name": "python3",
      "display_name": "Python 3"
    },
    "accelerator": "GPU"
  },
  "cells": [
    {
      "cell_type": "code",
      "metadata": {
        "id": "PHCYMWFPL5rB"
      },
      "source": [
        "import pandas as pd\n",
        "import matplotlib.pyplot as plt\n",
        "import statistics \n",
        "from statistics import variance \n",
        "import numpy as np"
      ],
      "execution_count": 22,
      "outputs": []
    },
    {
      "cell_type": "markdown",
      "metadata": {
        "id": "rErG2xJAwS60"
      },
      "source": [
        "Dari data capturing selama 30 menit, ambilah sample selama 10 menit, dari menit ke 10 sampai 20"
      ]
    },
    {
      "cell_type": "code",
      "metadata": {
        "id": "rmWWs4U8gP8N",
        "outputId": "d44bcf77-4dbc-4448-bac6-1814c616f816",
        "colab": {
          "base_uri": "https://localhost:8080/",
          "height": 419
        }
      },
      "source": [
        "data = pd.read_excel ('1301174689_TCPUDP.xlsx') \n",
        "df = pd.DataFrame(data, columns= ['Time','Length'])\n",
        "df"
      ],
      "execution_count": 23,
      "outputs": [
        {
          "output_type": "execute_result",
          "data": {
            "text/html": [
              "<div>\n",
              "<style scoped>\n",
              "    .dataframe tbody tr th:only-of-type {\n",
              "        vertical-align: middle;\n",
              "    }\n",
              "\n",
              "    .dataframe tbody tr th {\n",
              "        vertical-align: top;\n",
              "    }\n",
              "\n",
              "    .dataframe thead th {\n",
              "        text-align: right;\n",
              "    }\n",
              "</style>\n",
              "<table border=\"1\" class=\"dataframe\">\n",
              "  <thead>\n",
              "    <tr style=\"text-align: right;\">\n",
              "      <th></th>\n",
              "      <th>Time</th>\n",
              "      <th>Length</th>\n",
              "    </tr>\n",
              "  </thead>\n",
              "  <tbody>\n",
              "    <tr>\n",
              "      <th>0</th>\n",
              "      <td>600.001301</td>\n",
              "      <td>1392</td>\n",
              "    </tr>\n",
              "    <tr>\n",
              "      <th>1</th>\n",
              "      <td>600.002566</td>\n",
              "      <td>78</td>\n",
              "    </tr>\n",
              "    <tr>\n",
              "      <th>2</th>\n",
              "      <td>600.003279</td>\n",
              "      <td>1392</td>\n",
              "    </tr>\n",
              "    <tr>\n",
              "      <th>3</th>\n",
              "      <td>600.005333</td>\n",
              "      <td>1392</td>\n",
              "    </tr>\n",
              "    <tr>\n",
              "      <th>4</th>\n",
              "      <td>600.006417</td>\n",
              "      <td>78</td>\n",
              "    </tr>\n",
              "    <tr>\n",
              "      <th>...</th>\n",
              "      <td>...</td>\n",
              "      <td>...</td>\n",
              "    </tr>\n",
              "    <tr>\n",
              "      <th>42393</th>\n",
              "      <td>1199.455769</td>\n",
              "      <td>1392</td>\n",
              "    </tr>\n",
              "    <tr>\n",
              "      <th>42394</th>\n",
              "      <td>1199.455769</td>\n",
              "      <td>1392</td>\n",
              "    </tr>\n",
              "    <tr>\n",
              "      <th>42395</th>\n",
              "      <td>1199.456008</td>\n",
              "      <td>78</td>\n",
              "    </tr>\n",
              "    <tr>\n",
              "      <th>42396</th>\n",
              "      <td>1199.456106</td>\n",
              "      <td>78</td>\n",
              "    </tr>\n",
              "    <tr>\n",
              "      <th>42397</th>\n",
              "      <td>1199.459745</td>\n",
              "      <td>78</td>\n",
              "    </tr>\n",
              "  </tbody>\n",
              "</table>\n",
              "<p>42398 rows × 2 columns</p>\n",
              "</div>"
            ],
            "text/plain": [
              "              Time  Length\n",
              "0       600.001301    1392\n",
              "1       600.002566      78\n",
              "2       600.003279    1392\n",
              "3       600.005333    1392\n",
              "4       600.006417      78\n",
              "...            ...     ...\n",
              "42393  1199.455769    1392\n",
              "42394  1199.455769    1392\n",
              "42395  1199.456008      78\n",
              "42396  1199.456106      78\n",
              "42397  1199.459745      78\n",
              "\n",
              "[42398 rows x 2 columns]"
            ]
          },
          "metadata": {
            "tags": []
          },
          "execution_count": 23
        }
      ]
    },
    {
      "cell_type": "code",
      "metadata": {
        "id": "QaPNZGOUS5dB"
      },
      "source": [
        "df.drop_duplicates(subset=['Length','Time'] ,keep = False, inplace = True) "
      ],
      "execution_count": 4,
      "outputs": []
    },
    {
      "cell_type": "markdown",
      "metadata": {
        "id": "0CxBl3UlyRE7"
      },
      "source": [
        "Buatlah plot dari data sample tersebut, dimana sumbu Y adalah\n",
        "packet length dan sumbu x adalah index data sample.\n",
        "\n"
      ]
    },
    {
      "cell_type": "code",
      "metadata": {
        "id": "UvB9VSX4wLr8",
        "outputId": "47401dd1-1955-4738-ed34-ce4a9c2d91e8",
        "colab": {
          "base_uri": "https://localhost:8080/",
          "height": 513
        }
      },
      "source": [
        "paket = df['Length']\n",
        "paket.plot(figsize=(14,8))\n",
        "plt.title('Protokol UDP dan TCP')\n",
        "plt.ylabel('Packet Length')\n",
        "plt.xlabel('Index data sample')\n",
        "plt.show()"
      ],
      "execution_count": 5,
      "outputs": [
        {
          "output_type": "display_data",
          "data": {
            "image/png": "[encoded data removed]",
            "text/plain": [
              "<Figure size 1008x576 with 1 Axes>"
            ]
          },
          "metadata": {
            "tags": [],
            "needs_background": "light"
          }
        }
      ]
    },
    {
      "cell_type": "code",
      "metadata": {
        "id": "sroUSpOiaCis",
        "outputId": "d1dde1ce-7061-4ab0-e389-32f82d21fbb8",
        "colab": {
          "base_uri": "https://localhost:8080/",
          "height": 419
        }
      },
      "source": [
        "df"
      ],
      "execution_count": 6,
      "outputs": [
        {
          "output_type": "execute_result",
          "data": {
            "text/html": [
              "<div>\n",
              "<style scoped>\n",
              "    .dataframe tbody tr th:only-of-type {\n",
              "        vertical-align: middle;\n",
              "    }\n",
              "\n",
              "    .dataframe tbody tr th {\n",
              "        vertical-align: top;\n",
              "    }\n",
              "\n",
              "    .dataframe thead th {\n",
              "        text-align: right;\n",
              "    }\n",
              "</style>\n",
              "<table border=\"1\" class=\"dataframe\">\n",
              "  <thead>\n",
              "    <tr style=\"text-align: right;\">\n",
              "      <th></th>\n",
              "      <th>Time</th>\n",
              "      <th>Length</th>\n",
              "    </tr>\n",
              "  </thead>\n",
              "  <tbody>\n",
              "    <tr>\n",
              "      <th>0</th>\n",
              "      <td>600.001301</td>\n",
              "      <td>1392</td>\n",
              "    </tr>\n",
              "    <tr>\n",
              "      <th>1</th>\n",
              "      <td>600.002566</td>\n",
              "      <td>78</td>\n",
              "    </tr>\n",
              "    <tr>\n",
              "      <th>2</th>\n",
              "      <td>600.003279</td>\n",
              "      <td>1392</td>\n",
              "    </tr>\n",
              "    <tr>\n",
              "      <th>3</th>\n",
              "      <td>600.005333</td>\n",
              "      <td>1392</td>\n",
              "    </tr>\n",
              "    <tr>\n",
              "      <th>4</th>\n",
              "      <td>600.006417</td>\n",
              "      <td>78</td>\n",
              "    </tr>\n",
              "    <tr>\n",
              "      <th>...</th>\n",
              "      <td>...</td>\n",
              "      <td>...</td>\n",
              "    </tr>\n",
              "    <tr>\n",
              "      <th>42390</th>\n",
              "      <td>1199.431549</td>\n",
              "      <td>1392</td>\n",
              "    </tr>\n",
              "    <tr>\n",
              "      <th>42391</th>\n",
              "      <td>1199.431776</td>\n",
              "      <td>78</td>\n",
              "    </tr>\n",
              "    <tr>\n",
              "      <th>42395</th>\n",
              "      <td>1199.456008</td>\n",
              "      <td>78</td>\n",
              "    </tr>\n",
              "    <tr>\n",
              "      <th>42396</th>\n",
              "      <td>1199.456106</td>\n",
              "      <td>78</td>\n",
              "    </tr>\n",
              "    <tr>\n",
              "      <th>42397</th>\n",
              "      <td>1199.459745</td>\n",
              "      <td>78</td>\n",
              "    </tr>\n",
              "  </tbody>\n",
              "</table>\n",
              "<p>32130 rows × 2 columns</p>\n",
              "</div>"
            ],
            "text/plain": [
              "              Time  Length\n",
              "0       600.001301    1392\n",
              "1       600.002566      78\n",
              "2       600.003279    1392\n",
              "3       600.005333    1392\n",
              "4       600.006417      78\n",
              "...            ...     ...\n",
              "42390  1199.431549    1392\n",
              "42391  1199.431776      78\n",
              "42395  1199.456008      78\n",
              "42396  1199.456106      78\n",
              "42397  1199.459745      78\n",
              "\n",
              "[32130 rows x 2 columns]"
            ]
          },
          "metadata": {
            "tags": []
          },
          "execution_count": 6
        }
      ]
    },
    {
      "cell_type": "markdown",
      "metadata": {
        "id": "Uj3-TffiAGiP"
      },
      "source": [
        "Distribusi Frekuensi"
      ]
    },
    {
      "cell_type": "code",
      "metadata": {
        "id": "qpigckOwtayV",
        "outputId": "7eeacaa6-637f-4e2e-82a0-d4373c21dbe6",
        "colab": {
          "base_uri": "https://localhost:8080/",
          "height": 295
        }
      },
      "source": [
        "counts, bins = np.histogram(df)\n",
        "plt.hist(bins[:-1], bins, weights=counts)\n",
        "plt.title('Distribusi Frekuensi Protokol UDP dan TCP')\n",
        "plt.ylabel('Frequency')\n",
        "plt.xlabel('Packet Length')\n",
        "\n",
        "plt.show()\n"
      ],
      "execution_count": 7,
      "outputs": [
        {
          "output_type": "display_data",
          "data": {
            "image/png": "[encoded data removed]",
            "text/plain": [
              "<Figure size 432x288 with 1 Axes>"
            ]
          },
          "metadata": {
            "tags": [],
            "needs_background": "light"
          }
        }
      ]
    },
    {
      "cell_type": "code",
      "metadata": {
        "id": "Rqz-zYBnSGHY",
        "outputId": "4b09dde1-a408-4c36-b80d-67d25bdb20c1",
        "colab": {
          "base_uri": "https://localhost:8080/",
          "height": 35
        }
      },
      "source": [
        "Time = df['Time']\n",
        "highestscorex = max(Time)\n",
        "highestscorex\n"
      ],
      "execution_count": 8,
      "outputs": [
        {
          "output_type": "execute_result",
          "data": {
            "text/plain": [
              "1199.459745"
            ]
          },
          "metadata": {
            "tags": []
          },
          "execution_count": 8
        }
      ]
    },
    {
      "cell_type": "code",
      "metadata": {
        "id": "qLK0hT7gR9Xm",
        "outputId": "99c5f6c7-b995-41e7-a7ba-2cd574352dbf",
        "colab": {
          "base_uri": "https://localhost:8080/",
          "height": 35
        }
      },
      "source": [
        "Packet = df['Length']\n",
        "highestscorey = max(Packet)\n",
        "highestscorey"
      ],
      "execution_count": 9,
      "outputs": [
        {
          "output_type": "execute_result",
          "data": {
            "text/plain": [
              "1466"
            ]
          },
          "metadata": {
            "tags": []
          },
          "execution_count": 9
        }
      ]
    },
    {
      "cell_type": "markdown",
      "metadata": {
        "id": "9GiHC0Rja-QA"
      },
      "source": [
        "Mean"
      ]
    },
    {
      "cell_type": "code",
      "metadata": {
        "id": "EUwaecx-9qiA",
        "outputId": "f3786d3a-8de3-4140-8792-bd7374fc08e3",
        "colab": {
          "base_uri": "https://localhost:8080/",
          "height": 35
        }
      },
      "source": [
        "paket.mean(axis = 0) "
      ],
      "execution_count": 10,
      "outputs": [
        {
          "output_type": "execute_result",
          "data": {
            "text/plain": [
              "714.9970743853097"
            ]
          },
          "metadata": {
            "tags": []
          },
          "execution_count": 10
        }
      ]
    },
    {
      "cell_type": "markdown",
      "metadata": {
        "id": "9PlP2sGba_M9"
      },
      "source": [
        "Variance"
      ]
    },
    {
      "cell_type": "code",
      "metadata": {
        "id": "bpsEUqNv_Qk_",
        "outputId": "f9cb04b3-081d-4a76-e20b-7b4b8114eb56",
        "colab": {
          "base_uri": "https://localhost:8080/",
          "height": 35
        }
      },
      "source": [
        "variance(paket)"
      ],
      "execution_count": 11,
      "outputs": [
        {
          "output_type": "execute_result",
          "data": {
            "text/plain": [
              "427244.1781482459"
            ]
          },
          "metadata": {
            "tags": []
          },
          "execution_count": 11
        }
      ]
    },
    {
      "cell_type": "markdown",
      "metadata": {
        "id": "ece7Ycf2a_2q"
      },
      "source": [
        "Standar Deviasi"
      ]
    },
    {
      "cell_type": "code",
      "metadata": {
        "id": "XS0bI1vb9Zz7",
        "outputId": "d020bd44-d4fa-43f5-8de3-a3af36233d3b",
        "colab": {
          "base_uri": "https://localhost:8080/",
          "height": 35
        }
      },
      "source": [
        "paket.std() "
      ],
      "execution_count": 12,
      "outputs": [
        {
          "output_type": "execute_result",
          "data": {
            "text/plain": [
              "653.6391803956072"
            ]
          },
          "metadata": {
            "tags": []
          },
          "execution_count": 12
        }
      ]
    },
    {
      "cell_type": "markdown",
      "metadata": {
        "id": "wTKEDQxmF4JI"
      },
      "source": [
        "# UDP"
      ]
    },
    {
      "cell_type": "code",
      "metadata": {
        "id": "H-oYnUHkECST",
        "outputId": "c288a005-8b7c-4e2e-eba0-26865fb6d550",
        "colab": {
          "base_uri": "https://localhost:8080/",
          "height": 419
        }
      },
      "source": [
        "dataudp = pd.read_excel ('1301174689_UDP.xlsx') \n",
        "udp = pd.DataFrame(dataudp, columns= ['Time','Length'])\n",
        "udp"
      ],
      "execution_count": 13,
      "outputs": [
        {
          "output_type": "execute_result",
          "data": {
            "text/html": [
              "<div>\n",
              "<style scoped>\n",
              "    .dataframe tbody tr th:only-of-type {\n",
              "        vertical-align: middle;\n",
              "    }\n",
              "\n",
              "    .dataframe tbody tr th {\n",
              "        vertical-align: top;\n",
              "    }\n",
              "\n",
              "    .dataframe thead th {\n",
              "        text-align: right;\n",
              "    }\n",
              "</style>\n",
              "<table border=\"1\" class=\"dataframe\">\n",
              "  <thead>\n",
              "    <tr style=\"text-align: right;\">\n",
              "      <th></th>\n",
              "      <th>Time</th>\n",
              "      <th>Length</th>\n",
              "    </tr>\n",
              "  </thead>\n",
              "  <tbody>\n",
              "    <tr>\n",
              "      <th>0</th>\n",
              "      <td>600.001301</td>\n",
              "      <td>1392</td>\n",
              "    </tr>\n",
              "    <tr>\n",
              "      <th>1</th>\n",
              "      <td>600.002566</td>\n",
              "      <td>78</td>\n",
              "    </tr>\n",
              "    <tr>\n",
              "      <th>2</th>\n",
              "      <td>600.003279</td>\n",
              "      <td>1392</td>\n",
              "    </tr>\n",
              "    <tr>\n",
              "      <th>3</th>\n",
              "      <td>600.005333</td>\n",
              "      <td>1392</td>\n",
              "    </tr>\n",
              "    <tr>\n",
              "      <th>4</th>\n",
              "      <td>600.006417</td>\n",
              "      <td>78</td>\n",
              "    </tr>\n",
              "    <tr>\n",
              "      <th>...</th>\n",
              "      <td>...</td>\n",
              "      <td>...</td>\n",
              "    </tr>\n",
              "    <tr>\n",
              "      <th>41337</th>\n",
              "      <td>1199.455769</td>\n",
              "      <td>1392</td>\n",
              "    </tr>\n",
              "    <tr>\n",
              "      <th>41338</th>\n",
              "      <td>1199.455769</td>\n",
              "      <td>1392</td>\n",
              "    </tr>\n",
              "    <tr>\n",
              "      <th>41339</th>\n",
              "      <td>1199.456008</td>\n",
              "      <td>78</td>\n",
              "    </tr>\n",
              "    <tr>\n",
              "      <th>41340</th>\n",
              "      <td>1199.456106</td>\n",
              "      <td>78</td>\n",
              "    </tr>\n",
              "    <tr>\n",
              "      <th>41341</th>\n",
              "      <td>1199.459745</td>\n",
              "      <td>78</td>\n",
              "    </tr>\n",
              "  </tbody>\n",
              "</table>\n",
              "<p>41342 rows × 2 columns</p>\n",
              "</div>"
            ],
            "text/plain": [
              "              Time  Length\n",
              "0       600.001301    1392\n",
              "1       600.002566      78\n",
              "2       600.003279    1392\n",
              "3       600.005333    1392\n",
              "4       600.006417      78\n",
              "...            ...     ...\n",
              "41337  1199.455769    1392\n",
              "41338  1199.455769    1392\n",
              "41339  1199.456008      78\n",
              "41340  1199.456106      78\n",
              "41341  1199.459745      78\n",
              "\n",
              "[41342 rows x 2 columns]"
            ]
          },
          "metadata": {
            "tags": []
          },
          "execution_count": 13
        }
      ]
    },
    {
      "cell_type": "code",
      "metadata": {
        "id": "21R2lpIliQ6N"
      },
      "source": [
        "udp.drop_duplicates(subset=['Length','Time'] ,keep = False, inplace = True) "
      ],
      "execution_count": 14,
      "outputs": []
    },
    {
      "cell_type": "markdown",
      "metadata": {
        "id": "GzcCeUQau5wr"
      },
      "source": [
        "Buatlah plot dari data sample tersebut, dimana sumbu Y adalah\n",
        "packet length dan sumbu x adalah index data sample.\n",
        "\n"
      ]
    },
    {
      "cell_type": "code",
      "metadata": {
        "id": "iZHilTsOEZFi",
        "outputId": "3a91ca46-da92-48eb-e431-234f8dd53b90",
        "colab": {
          "base_uri": "https://localhost:8080/",
          "height": 513
        }
      },
      "source": [
        "paket1 = udp['Length']\n",
        "paket1.plot(figsize=(14,8))\n",
        "plt.title('Protokol UDP')\n",
        "plt.ylabel('Packet Length')\n",
        "plt.xlabel('Index data sample')\n",
        "plt.show()"
      ],
      "execution_count": 15,
      "outputs": [
        {
          "output_type": "display_data",
          "data": {
            "image/png": "[encoded data removed]",
            "text/plain": [
              "<Figure size 1008x576 with 1 Axes>"
            ]
          },
          "metadata": {
            "tags": [],
            "needs_background": "light"
          }
        }
      ]
    },
    {
      "cell_type": "code",
      "metadata": {
        "id": "uGD1OjUl9SOi",
        "outputId": "56125202-bebd-439f-d7a4-e2e54d2a1c81",
        "colab": {
          "base_uri": "https://localhost:8080/",
          "height": 251
        }
      },
      "source": [
        "udp.value_counts()"
      ],
      "execution_count": 16,
      "outputs": [
        {
          "output_type": "execute_result",
          "data": {
            "text/plain": [
              "Time         Length\n",
              "1199.459745  78        1\n",
              "779.322013   82        1\n",
              "779.323871   82        1\n",
              "779.325296   1392      1\n",
              "779.325524   82        1\n",
              "                      ..\n",
              "959.185048   90        1\n",
              "959.209355   1392      1\n",
              "959.209618   90        1\n",
              "959.211905   1392      1\n",
              "600.001301   1392      1\n",
              "Length: 31293, dtype: int64"
            ]
          },
          "metadata": {
            "tags": []
          },
          "execution_count": 16
        }
      ]
    },
    {
      "cell_type": "code",
      "metadata": {
        "id": "er8v8a-o-ofp",
        "outputId": "2f95ac22-7e43-47a0-b103-6bd7dff4c810",
        "colab": {
          "base_uri": "https://localhost:8080/",
          "height": 233
        }
      },
      "source": [
        "udp.sum(axis=1)"
      ],
      "execution_count": 17,
      "outputs": [
        {
          "output_type": "execute_result",
          "data": {
            "text/plain": [
              "0        1992.001301\n",
              "1         678.002566\n",
              "2        1992.003279\n",
              "3        1992.005333\n",
              "4         678.006417\n",
              "            ...     \n",
              "41334    2591.431549\n",
              "41335    1277.431776\n",
              "41339    1277.456008\n",
              "41340    1277.456106\n",
              "41341    1277.459745\n",
              "Length: 31293, dtype: float64"
            ]
          },
          "metadata": {
            "tags": []
          },
          "execution_count": 17
        }
      ]
    },
    {
      "cell_type": "markdown",
      "metadata": {
        "id": "KWlVzI4eu8ps"
      },
      "source": [
        "Plot Distribusi Frekuensi hanya protokol UDP"
      ]
    },
    {
      "cell_type": "code",
      "metadata": {
        "id": "Qfts6ewQEdgV",
        "outputId": "8b625014-3650-4aa2-dc98-b487f5be9695",
        "colab": {
          "base_uri": "https://localhost:8080/",
          "height": 295
        }
      },
      "source": [
        "counts, bins = np.histogram(udp)\n",
        "plt.hist(bins[:-1], bins, weights=counts)\n",
        "plt.title('Distribusi Frekuensi Protokol UDP')\n",
        "plt.ylabel('Frequency')\n",
        "plt.xlabel('Packet Length')\n",
        "\n",
        "plt.show()"
      ],
      "execution_count": 18,
      "outputs": [
        {
          "output_type": "display_data",
          "data": {
            "image/png": "[encoded data removed]",
            "text/plain": [
              "<Figure size 432x288 with 1 Axes>"
            ]
          },
          "metadata": {
            "tags": [],
            "needs_background": "light"
          }
        }
      ]
    },
    {
      "cell_type": "markdown",
      "metadata": {
        "id": "GEsDTJRDvDlr"
      },
      "source": [
        "Mean"
      ]
    },
    {
      "cell_type": "code",
      "metadata": {
        "id": "-Fhl6JJ2FA__",
        "outputId": "d43c8bd0-c9a1-47e8-c4c4-ac145d9b6e3e",
        "colab": {
          "base_uri": "https://localhost:8080/",
          "height": 35
        }
      },
      "source": [
        "paket1.mean(axis = 0) "
      ],
      "execution_count": 19,
      "outputs": [
        {
          "output_type": "execute_result",
          "data": {
            "text/plain": [
              "729.882561595245"
            ]
          },
          "metadata": {
            "tags": []
          },
          "execution_count": 19
        }
      ]
    },
    {
      "cell_type": "markdown",
      "metadata": {
        "id": "iIHOsqY6vGua"
      },
      "source": [
        "Variance"
      ]
    },
    {
      "cell_type": "code",
      "metadata": {
        "id": "x9072zoVFKox",
        "outputId": "bce157f5-7094-42d3-b902-b42046c9b956",
        "colab": {
          "base_uri": "https://localhost:8080/",
          "height": 35
        }
      },
      "source": [
        "variance(paket1)"
      ],
      "execution_count": 20,
      "outputs": [
        {
          "output_type": "execute_result",
          "data": {
            "text/plain": [
              "426841.12991863297"
            ]
          },
          "metadata": {
            "tags": []
          },
          "execution_count": 20
        }
      ]
    },
    {
      "cell_type": "markdown",
      "metadata": {
        "id": "Uh7srqDgCRrQ"
      },
      "source": [
        "Standar Deviasi"
      ]
    },
    {
      "cell_type": "code",
      "metadata": {
        "id": "Wn-Ql9x8FON7",
        "outputId": "ef3fef99-8092-4c11-f384-9dad5c902213",
        "colab": {
          "base_uri": "https://localhost:8080/",
          "height": 35
        }
      },
      "source": [
        "paket.std() "
      ],
      "execution_count": 21,
      "outputs": [
        {
          "output_type": "execute_result",
          "data": {
            "text/plain": [
              "653.6391803956072"
            ]
          },
          "metadata": {
            "tags": []
          },
          "execution_count": 21
        }
      ]
    },
    {
      "cell_type": "code",
      "metadata": {
        "id": "X3UL62tfxrtp"
      },
      "source": [
        ""
      ],
      "execution_count": null,
      "outputs": []
    }
  ]
}